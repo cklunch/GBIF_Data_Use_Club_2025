{
 "cells": [
  {
   "cell_type": "markdown",
   "metadata": {},
   "source": [
    "## Exploring NEON (National Ecological Observatory Network) AOP (Airborne Operations Platform) and NEON BioRepository Data Together"
   ]
  },
  {
   "cell_type": "markdown",
   "metadata": {},
   "source": [
    "##### In this project, we will be looking at NEON AOP data for 2016 and 2017 in the GRSM (Great Smokey Mountains) Domain. Between the 2016 and 2017 collection of data, a large fire occurred in the domain leaving a prominent burn scar. We will be using the GEE (Google Earth Engine) API to explore the burn scar using the NBR (Normalize Burn Ratio) to set a threshold to identify burnt areas. We will then us the PyGBIF API (Python Global Biodiversity Information Facility) to pull records from the NEON BioRepository to see if and/or how Carabid beetle traps in the domain were impacted by the fires."
   ]
  },
  {
   "cell_type": "markdown",
   "metadata": {},
   "source": [
    "## Part 1: Pulling + Visualizing Imagery and Occurence Records via APIs"
   ]
  },
  {
   "cell_type": "markdown",
   "metadata": {},
   "source": [
    "#### Step 1: Import and authenticate GEE and geemap with your username and project"
   ]
  },
  {
   "cell_type": "code",
   "execution_count": 1,
   "metadata": {},
   "outputs": [],
   "source": [
    "import ee\n",
    "import geemap\n",
    "\n",
    "# Authenticate and initialize Earth Engine\n",
    "ee.Authenticate()\n",
    "ee.Initialize(project=\"ee-krle4401\")"
   ]
  },
  {
   "cell_type": "markdown",
   "metadata": {},
   "source": [
    "#### Step 2: Pull NEON Imagery from GEE"
   ]
  },
  {
   "cell_type": "code",
   "execution_count": 2,
   "metadata": {},
   "outputs": [
    {
     "data": {
      "text/html": [
       "\n",
       "            <style>\n",
       "                .geemap-dark {\n",
       "                    --jp-widgets-color: white;\n",
       "                    --jp-widgets-label-color: white;\n",
       "                    --jp-ui-font-color1: white;\n",
       "                    --jp-layout-color2: #454545;\n",
       "                    background-color: #383838;\n",
       "                }\n",
       "\n",
       "                .geemap-dark .jupyter-button {\n",
       "                    --jp-layout-color3: #383838;\n",
       "                }\n",
       "\n",
       "                .geemap-colab {\n",
       "                    background-color: var(--colab-primary-surface-color, white);\n",
       "                }\n",
       "\n",
       "                .geemap-colab .jupyter-button {\n",
       "                    --jp-layout-color3: var(--colab-primary-surface-color, white);\n",
       "                }\n",
       "            </style>\n",
       "            "
      ],
      "text/plain": [
       "<IPython.core.display.HTML object>"
      ]
     },
     "metadata": {},
     "output_type": "display_data"
    },
    {
     "name": "stdout",
     "output_type": "stream",
     "text": [
      "Available AOP Image IDs: ['2013_CPER_1', '2014_HARV_2', '2014_JERC_1', '2015_MLBS_1', '2015_TALL_1', '2016_CLBJ_1', '2016_GRSM_2', '2016_HARV_3', '2016_JERC_2', '2016_SERC_1', '2016_TALL_2', '2017_CLBJ_2', '2017_CPER_3', '2017_GRSM_3', '2017_HARV_4', '2017_JERC_3', '2017_MLBS_2', '2017_OAES_2', '2017_SERC_3', '2017_SRER_1', '2017_TALL_3', '2018_GUAN_1', '2018_HARV_5', '2018_JERC_4', '2018_MCRA_1', '2018_MLBS_3', '2018_OAES_3', '2018_SRER_2', '2018_TALL_4', '2019_CLBJ_4', '2019_HARV_6', '2019_HEAL_3', '2019_JERC_5', '2019_JORN_3', '2019_NIWO_3', '2019_OAES_4', '2019_SERC_4', '2019_SOAP_4', '2019_SRER_3', '2019_TALL_5', '2020_CPER_5', '2020_CPER_7', '2020_NIWO_4', '2020_RMNP_3', '2020_YELL_3', '2021_ABBY_4', '2021_BONA_4', '2021_CLBJ_5', '2021_CPER_8', '2021_HEAL_4', '2021_JERC_6', '2021_JORN_4', '2021_MCRA_2', '2021_OAES_5', '2021_OSBS_6', '2021_SERC_5', '2021_SJER_5', '2021_SOAP_5', '2021_SRER_4', '2021_TALL_6']\n",
      "Found AOP images: {('2016', 'GRSM'): ['2016_GRSM_2'], ('2017', 'GRSM'): ['2017_GRSM_3']}\n"
     ]
    }
   ],
   "source": [
    "# Define an area of interest, for the imagery, I will simply be using a centroid because I want all\n",
    "# the imagery from GRSM domain. You can using a bounding box, shapefiles, etc. if you want a more granular\n",
    "# control of the geographic area\n",
    "site_center = ee.Geometry.Point([-83.5, 35.7])\n",
    "\n",
    "# Load Hyperspectral AOP Image Collection\n",
    "sdr_col = ee.ImageCollection('projects/neon-prod-earthengine/assets/HSI_REFL/001')\n",
    "\n",
    "# Retrieve all available image IDs to make a list if you want to see everything, but also to cross \n",
    "# reference years you may want\n",
    "image_ids = sdr_col.aggregate_array(\"system:index\").getInfo()\n",
    "print(\"Available AOP Image IDs:\", image_ids)\n",
    "\n",
    "# Define a function that allows you to look through multiple years and domains of image collections\n",
    "def filter_aop_images(years, domains):\n",
    "    \"\"\"\n",
    "    Filters the AOP image collection based on a list of years and domains.\n",
    "    \n",
    "    Parameters:\n",
    "        years (list): List of years (e.g., [\"2016\", \"2017\"]).\n",
    "        domains (list): List of 4-letter site codes (e.g., [\"GRSM\", \"HARV\"]).\n",
    "    \n",
    "    Returns:\n",
    "        Dictionary with (year, domain) as key and list of matching image IDs.\n",
    "    \"\"\"\n",
    "    filtered_results = {}\n",
    "\n",
    "    for year in years:\n",
    "        for domain in domains:\n",
    "            matching_ids = [img_id for img_id in image_ids if year in img_id and domain in img_id]\n",
    "            if matching_ids:\n",
    "                filtered_results[(year, domain)] = matching_ids\n",
    "\n",
    "    return filtered_results\n",
    "\n",
    "# Define years and domains that you want to look at (NOTE: this code can be used from multiple years\n",
    "# and domains)\n",
    "years_input = [\"2016\", \"2017\"]  # Add multiple years here\n",
    "domains_input = [\"GRSM\"]  # Add multiple domains here\n",
    "\n",
    "# Get image filtered by year and domain\n",
    "filtered_images = filter_aop_images(years_input, domains_input)\n",
    "\n",
    "# NEON does not fly every single domain every year so there may be years where imagery is unavailable\n",
    "# I like to have a conditional statement so I can easily check if there are no images available, but \n",
    "# also print a list in case only some years are available\n",
    "if not filtered_images:\n",
    "    print(f\"No AOP images found for the selected years and domains.\")\n",
    "else:\n",
    "    print(f\"Found AOP images: {filtered_images}\")\n"
   ]
  },
  {
   "cell_type": "markdown",
   "metadata": {},
   "source": [
    "#### Step 2: Calculate NBR (Normalized Burn Ratio) and visualize for 2016 and 2017 imagery"
   ]
  },
  {
   "cell_type": "code",
   "execution_count": 3,
   "metadata": {},
   "outputs": [
    {
     "data": {
      "text/html": [
       "\n",
       "            <style>\n",
       "                .geemap-dark {\n",
       "                    --jp-widgets-color: white;\n",
       "                    --jp-widgets-label-color: white;\n",
       "                    --jp-ui-font-color1: white;\n",
       "                    --jp-layout-color2: #454545;\n",
       "                    background-color: #383838;\n",
       "                }\n",
       "\n",
       "                .geemap-dark .jupyter-button {\n",
       "                    --jp-layout-color3: #383838;\n",
       "                }\n",
       "\n",
       "                .geemap-colab {\n",
       "                    background-color: var(--colab-primary-surface-color, white);\n",
       "                }\n",
       "\n",
       "                .geemap-colab .jupyter-button {\n",
       "                    --jp-layout-color3: var(--colab-primary-surface-color, white);\n",
       "                }\n",
       "            </style>\n",
       "            "
      ],
      "text/plain": [
       "<IPython.core.display.HTML object>"
      ]
     },
     "metadata": {},
     "output_type": "display_data"
    },
    {
     "name": "stdout",
     "output_type": "stream",
     "text": [
      "NBR computed for AOP image: 2016_GRSM_2\n",
      "NBR computed for AOP image: 2017_GRSM_3\n",
      "NBR visualization saved: AOP_NBR_2016_2017_GRSM.html\n"
     ]
    }
   ],
   "source": [
    "# NBR Visualization Parameters\n",
    "nbr_vis_params = {\n",
    "    'min': -1, 'max': 1,\n",
    "    'palette': ['white', 'yellow', 'red', 'black']  # typical burn severity color ramp\n",
    "}\n",
    "\n",
    "# Function to Compute NBR\n",
    "def addNBRBands(image):\n",
    "    nbr = image.normalizedDifference(['B097', 'B220']).rename('NBR')\n",
    "    return image.addBands(nbr).set({'Sensor': 'AOP'})\n",
    "\n",
    "# Create a geemap Map instance for NBR visualization\n",
    "NBR_Map = geemap.Map()\n",
    "NBR_Map.centerObject(site_center, 11)\n",
    "\n",
    "# Loop through filtered images and compute NBR\n",
    "for (year, domain), image_ids in filtered_images.items():\n",
    "    for image_id in image_ids:\n",
    "        # Retrieve the image by its system:index\n",
    "        aop_image = sdr_col.filter(ee.Filter.eq(\"system:index\", image_id)).first()\n",
    "\n",
    "        # Compute NBR\n",
    "        if aop_image:\n",
    "            aop_nbr = addNBRBands(aop_image).select('NBR')\n",
    "            print(f\"NBR computed for AOP image: {image_id}\")\n",
    "\n",
    "            # Add layer with proper naming\n",
    "            NBR_Map.addLayer(aop_nbr, nbr_vis_params, f'AOP NBR ({image_id})')\n",
    "\n",
    "# Save the final interactive HTML map for NBR\n",
    "html_nbr_filename = f\"AOP_NBR_{'_'.join(years_input)}_{'_'.join(domains_input)}.html\"\n",
    "NBR_Map.to_html(filename=html_nbr_filename)\n",
    "\n",
    "print(f\"NBR visualization saved: {html_nbr_filename}\")"
   ]
  },
  {
   "cell_type": "markdown",
   "metadata": {},
   "source": [
    "#### Import the Python GBIF API with necessary packages for geometry and data analysis"
   ]
  },
  {
   "cell_type": "code",
   "execution_count": 4,
   "metadata": {},
   "outputs": [
    {
     "data": {
      "text/html": [
       "\n",
       "            <style>\n",
       "                .geemap-dark {\n",
       "                    --jp-widgets-color: white;\n",
       "                    --jp-widgets-label-color: white;\n",
       "                    --jp-ui-font-color1: white;\n",
       "                    --jp-layout-color2: #454545;\n",
       "                    background-color: #383838;\n",
       "                }\n",
       "\n",
       "                .geemap-dark .jupyter-button {\n",
       "                    --jp-layout-color3: #383838;\n",
       "                }\n",
       "\n",
       "                .geemap-colab {\n",
       "                    background-color: var(--colab-primary-surface-color, white);\n",
       "                }\n",
       "\n",
       "                .geemap-colab .jupyter-button {\n",
       "                    --jp-layout-color3: var(--colab-primary-surface-color, white);\n",
       "                }\n",
       "            </style>\n",
       "            "
      ],
      "text/plain": [
       "<IPython.core.display.HTML object>"
      ]
     },
     "metadata": {},
     "output_type": "display_data"
    },
    {
     "name": "stderr",
     "output_type": "stream",
     "text": [
      "INFO:Created 417 records\n"
     ]
    }
   ],
   "source": [
    "from pygbif import occurrences as gbif_occ\n",
    "import geopandas as gpd\n",
    "from shapely.geometry import Polygon\n",
    "import pandas as pd\n",
    "\n",
    "# GSMNP centroid and bounding box parameters\n",
    "latitude, longitude = 35.6118, -83.4895\n",
    "bbox_size_deg = 0.09  # Approx. 10 km (~0.09 degrees)\n",
    "\n",
    "# Create bounding box polygon\n",
    "bounding_box_coords = [\n",
    "    (longitude - bbox_size_deg, latitude - bbox_size_deg),  # Bottom-left\n",
    "    (longitude + bbox_size_deg, latitude - bbox_size_deg),  # Bottom-right\n",
    "    (longitude + bbox_size_deg, latitude + bbox_size_deg),  # Top-right\n",
    "    (longitude - bbox_size_deg, latitude + bbox_size_deg),  # Top-left\n",
    "    (longitude - bbox_size_deg, latitude - bbox_size_deg)   # Close polygon\n",
    "]\n",
    "bounding_polygon = Polygon(bounding_box_coords)\n",
    "polygon_wkt = bounding_polygon.wkt\n",
    "\n",
    "# Get carabid records\n",
    "carabid_records = []\n",
    "carabid_taxon_key = 3792  # <-- update with correct taxon key for Carabidae\n",
    "for year in [2016, 2017]:\n",
    "    occurrences = gbif_occ.search(\n",
    "        taxonKey=carabid_taxon_key,\n",
    "        geometry=polygon_wkt,\n",
    "        year=year,\n",
    "        hasCoordinate=True,\n",
    "        limit=300\n",
    "    )\n",
    "    prefix = f\"grsm.{year}\".lower()\n",
    "    for occ in occurrences.get(\"results\", []):\n",
    "        if \"eventID\" in occ and occ[\"eventID\"].lower().startswith(prefix):\n",
    "            try:\n",
    "                lat = float(occ[\"decimalLatitude\"])\n",
    "                lon = float(occ[\"decimalLongitude\"])\n",
    "                carabid_records.append({\n",
    "                    \"species\": occ.get(\"species\", \"Unknown\"),\n",
    "                    \"latitude\": lat,\n",
    "                    \"longitude\": lon,\n",
    "                    \"year\": year,\n",
    "                    \"eventID\": occ.get(\"eventID\")\n",
    "                })\n",
    "            except (KeyError, TypeError, ValueError):\n",
    "                continue\n",
    "\n",
    "# Convert carabid records to GeoDataFrame and export as GeoJSON and CSV\n",
    "carabid_gdf = gpd.GeoDataFrame(\n",
    "    carabid_records,\n",
    "    geometry=gpd.points_from_xy(\n",
    "        [r['longitude'] for r in carabid_records],\n",
    "        [r['latitude'] for r in carabid_records]\n",
    "    ),\n",
    "    crs=\"EPSG:4326\"\n",
    ")\n",
    "carabid_gdf.to_file(\"gbif_carabids_gsmnp_2016_2017.geojson\", driver=\"GeoJSON\")\n",
    "carabid_gdf.drop(columns='geometry').to_csv(\"gbif_carabids_gsmnp_2016_2017.csv\", index=False)\n"
   ]
  },
  {
   "cell_type": "markdown",
   "metadata": {},
   "source": [
    "#### Visualize AOP Imagery and GBIF records together"
   ]
  },
  {
   "cell_type": "code",
   "execution_count": 5,
   "metadata": {},
   "outputs": [
    {
     "data": {
      "text/html": [
       "\n",
       "            <style>\n",
       "                .geemap-dark {\n",
       "                    --jp-widgets-color: white;\n",
       "                    --jp-widgets-label-color: white;\n",
       "                    --jp-ui-font-color1: white;\n",
       "                    --jp-layout-color2: #454545;\n",
       "                    background-color: #383838;\n",
       "                }\n",
       "\n",
       "                .geemap-dark .jupyter-button {\n",
       "                    --jp-layout-color3: #383838;\n",
       "                }\n",
       "\n",
       "                .geemap-colab {\n",
       "                    background-color: var(--colab-primary-surface-color, white);\n",
       "                }\n",
       "\n",
       "                .geemap-colab .jupyter-button {\n",
       "                    --jp-layout-color3: var(--colab-primary-surface-color, white);\n",
       "                }\n",
       "            </style>\n",
       "            "
      ],
      "text/plain": [
       "<IPython.core.display.HTML object>"
      ]
     },
     "metadata": {},
     "output_type": "display_data"
    },
    {
     "name": "stdout",
     "output_type": "stream",
     "text": [
      "Combined map saved as: Combined_NBR_GBIF_NBR_Map.html\n"
     ]
    }
   ],
   "source": [
    "# Load GBIF records from the GeoJSON file\n",
    "gbif_geojson = \"gbif_carabids_gsmnp_2016_2017.geojson\"\n",
    "carabid_gdf = gpd.read_file(gbif_geojson)\n",
    "\n",
    "# Separate the GBIF records by year\n",
    "carabid_2016 = carabid_gdf[carabid_gdf[\"year\"] == 2016]\n",
    "carabid_2017 = carabid_gdf[carabid_gdf[\"year\"] == 2017]\n",
    "\n",
    "# Add the GBIF points to the map as separate layers\n",
    "NBR_Map.add_gdf(carabid_2016, layer_name=\"GBIF NEON Carabidae Trap Records 2016\")\n",
    "NBR_Map.add_gdf(carabid_2017, layer_name=\"GBIF NEON Carabidae Trap Records 2017\")\n",
    "\n",
    "# (Optional) Save the interactive NBR_map to an HTML file\n",
    "output_html = \"Combined_NBR_GBIF_NBR_Map.html\"\n",
    "NBR_Map.to_html(filename=output_html)\n",
    "print(f\"Combined map saved as: {output_html}\")"
   ]
  },
  {
   "cell_type": "markdown",
   "metadata": {},
   "source": [
    "## Part 2: Digging a little deeper with Analysis"
   ]
  },
  {
   "cell_type": "code",
   "execution_count": 6,
   "metadata": {},
   "outputs": [
    {
     "data": {
      "text/html": [
       "\n",
       "            <style>\n",
       "                .geemap-dark {\n",
       "                    --jp-widgets-color: white;\n",
       "                    --jp-widgets-label-color: white;\n",
       "                    --jp-ui-font-color1: white;\n",
       "                    --jp-layout-color2: #454545;\n",
       "                    background-color: #383838;\n",
       "                }\n",
       "\n",
       "                .geemap-dark .jupyter-button {\n",
       "                    --jp-layout-color3: #383838;\n",
       "                }\n",
       "\n",
       "                .geemap-colab {\n",
       "                    background-color: var(--colab-primary-surface-color, white);\n",
       "                }\n",
       "\n",
       "                .geemap-colab .jupyter-button {\n",
       "                    --jp-layout-color3: var(--colab-primary-surface-color, white);\n",
       "                }\n",
       "            </style>\n",
       "            "
      ],
      "text/plain": [
       "<IPython.core.display.HTML object>"
      ]
     },
     "metadata": {},
     "output_type": "display_data"
    },
    {
     "name": "stdout",
     "output_type": "stream",
     "text": [
      "Burn scar map saved as: Burn_Scar_Map.html\n",
      "Export of burn scar shapefile initiated.\n"
     ]
    }
   ],
   "source": [
    "\n",
    "\n",
    "# --- STEP 1: Select pre-fire and post-fire images ---\n",
    "# Assuming filtered_images is a dictionary with keys like ('2016', 'GRSM') and ('2017', 'GRSM')\n",
    "# Here we simply choose the first image ID for each year.\n",
    "pre_fire_img_id = filtered_images.get(('2016', 'GRSM'))[0]\n",
    "post_fire_img_id = filtered_images.get(('2017', 'GRSM'))[0]\n",
    "\n",
    "# Retrieve the images from the collection\n",
    "pre_fire_image = sdr_col.filter(ee.Filter.eq(\"system:index\", pre_fire_img_id)).first()\n",
    "post_fire_image = sdr_col.filter(ee.Filter.eq(\"system:index\", post_fire_img_id)).first()\n",
    "\n",
    "# --- STEP 2: Compute NBR for each image using your function ---\n",
    "pre_fire_nbr = addNBRBands(pre_fire_image).select('NBR')\n",
    "post_fire_nbr = addNBRBands(post_fire_image).select('NBR')\n",
    "\n",
    "# --- STEP 3: Calculate dNBR (difference NBR) ---\n",
    "dnbr = pre_fire_nbr.subtract(post_fire_nbr).rename('dNBR')\n",
    "\n",
    "# --- STEP 4: Apply a threshold to classify burned areas ---\n",
    "# Example: mark pixels as burned if dNBR > 0.27 (indicative of moderate to high burn severity)\n",
    "burn_threshold = 0.27  # This value may be adjusted based on local calibration or sensor characteristics.\n",
    "burned_area_mask = dnbr.gt(burn_threshold)\n",
    "\n",
    "# Optional: visualize burned vs unburned areas using a simple palette.\n",
    "dnbr_viz_params = {\n",
    "    'min': 0,\n",
    "    'max': 1,\n",
    "    'palette': ['white', 'orange', 'red']\n",
    "}\n",
    "\n",
    "# --- STEP 5: Vectorize the Burn Scar Mask ---\n",
    "# Define a region of interest (ROI) for vectorization.\n",
    "# You might base this on an extent around your site_center; here we buffer the center by 5000m.\n",
    "roi = site_center.buffer(5000)\n",
    "\n",
    "# Convert the burned area mask into vectors (polygons)\n",
    "burn_vectors = burned_area_mask.selfMask().reduceToVectors(\n",
    "    geometry=roi,\n",
    "    crs=post_fire_image.projection(), \n",
    "    scale=10,  # Adjust scale (pixel size) as appropriate for the data.\n",
    "    geometryType='polygon',\n",
    "    labelProperty='burned',\n",
    "    reducer=ee.Reducer.countEvery()\n",
    ")\n",
    "\n",
    "# --- STEP 6: Visualize the dNBR, burned area, and vectorized burn scar on the map ---\n",
    "# Create a geemap Map instance (if not already created)\n",
    "NBR_Map = geemap.Map()\n",
    "NBR_Map.centerObject(site_center, 11)\n",
    "\n",
    "# Add dNBR layer\n",
    "NBR_Map.addLayer(dnbr, dnbr_viz_params, 'dNBR (Pre-fire minus Post-fire)')\n",
    "\n",
    "# Add burned area mask layer\n",
    "NBR_Map.addLayer(burned_area_mask.selfMask(), {'palette': 'red'}, 'Burned Area Mask')\n",
    "\n",
    "# Add burn scar vectors layer\n",
    "NBR_Map.addLayer(burn_vectors, {}, 'Burn Scar Polygons')\n",
    "\n",
    "# Optionally, save the interactive map\n",
    "output_html = \"Burn_Scar_Map.html\"\n",
    "NBR_Map.to_html(filename=output_html)\n",
    "print(f\"Burn scar map saved as: {output_html}\")\n",
    "\n",
    "# --- Optional: Export the burn scar vectors as a shapefile ---\n",
    "# If you wish to export the vector data from Earth Engine, use Export.table.toDrive.\n",
    "export_task = ee.batch.Export.table.toDrive(\n",
    "    collection=burn_vectors,\n",
    "    description='BurnScar_Shapefile_Export',\n",
    "    folder='EarthEngineExports',\n",
    "    fileFormat='SHP'\n",
    ")\n",
    "export_task.start()\n",
    "print(\"Export of burn scar shapefile initiated.\")\n"
   ]
  },
  {
   "cell_type": "markdown",
   "metadata": {},
   "source": [
    "#### Compare overall trap collections abundance year to year"
   ]
  },
  {
   "cell_type": "code",
   "execution_count": 7,
   "metadata": {},
   "outputs": [
    {
     "data": {
      "text/html": [
       "\n",
       "            <style>\n",
       "                .geemap-dark {\n",
       "                    --jp-widgets-color: white;\n",
       "                    --jp-widgets-label-color: white;\n",
       "                    --jp-ui-font-color1: white;\n",
       "                    --jp-layout-color2: #454545;\n",
       "                    background-color: #383838;\n",
       "                }\n",
       "\n",
       "                .geemap-dark .jupyter-button {\n",
       "                    --jp-layout-color3: #383838;\n",
       "                }\n",
       "\n",
       "                .geemap-colab {\n",
       "                    background-color: var(--colab-primary-surface-color, white);\n",
       "                }\n",
       "\n",
       "                .geemap-colab .jupyter-button {\n",
       "                    --jp-layout-color3: var(--colab-primary-surface-color, white);\n",
       "                }\n",
       "            </style>\n",
       "            "
      ],
      "text/plain": [
       "<IPython.core.display.HTML object>"
      ]
     },
     "metadata": {},
     "output_type": "display_data"
    },
    {
     "data": {
      "image/png": "[encoded data removed]",
      "text/plain": [
       "<Figure size 1400x700 with 1 Axes>"
      ]
     },
     "metadata": {},
     "output_type": "display_data"
    }
   ],
   "source": [
    "import matplotlib.pyplot as plt\n",
    "\n",
    "# Load the GBIF records from your GeoJSON file\n",
    "gdf = gpd.read_file(\"gbif_carabids_gsmnp_2016_2017.geojson\")\n",
    "\n",
    "# Create a new column that identifies each unique location by combining latitude and longitude as a string.\n",
    "# Adjust formatting as needed.\n",
    "gdf['location'] = gdf['latitude'].astype(str) + \", \" + gdf['longitude'].astype(str)\n",
    "\n",
    "# Group by year and location, counting the number of occurrences (abundance) per location for each year.\n",
    "abundance_by_loc = gdf.groupby(['year', 'location']).size().reset_index(name='count')\n",
    "\n",
    "# Pivot the grouped DataFrame so that each unique location is a row and the columns are the counts for each year.\n",
    "pivot_abundance = abundance_by_loc.pivot(index='location', columns='year', values='count').fillna(0)\n",
    "\n",
    "# For clarity, sort the locations (this step is optional and dependent on your preference)\n",
    "pivot_abundance = pivot_abundance.sort_index()\n",
    "\n",
    "# Plot a grouped bar chart (histogram style) with unique locations on the x-axis and counts as bar heights.\n",
    "ax = pivot_abundance.plot(kind='bar', figsize=(14, 7))\n",
    "\n",
    "ax.set_xlabel(\"Lat, Long Location\")\n",
    "ax.set_ylabel(\"Abundance (Count)\")\n",
    "ax.set_title(\"Abundance per Unique Location in 2016 vs 2017\")\n",
    "ax.legend(title=\"Year\")\n",
    "plt.xticks(rotation=90)  # Rotate x-axis labels for better readability\n",
    "\n",
    "plt.tight_layout()\n",
    "plt.show()\n",
    "\n",
    "\n"
   ]
  },
  {
   "cell_type": "markdown",
   "metadata": {},
   "source": [
    "#### Compare species from year to year"
   ]
  },
  {
   "cell_type": "code",
   "execution_count": 8,
   "metadata": {},
   "outputs": [
    {
     "data": {
      "text/html": [
       "\n",
       "            <style>\n",
       "                .geemap-dark {\n",
       "                    --jp-widgets-color: white;\n",
       "                    --jp-widgets-label-color: white;\n",
       "                    --jp-ui-font-color1: white;\n",
       "                    --jp-layout-color2: #454545;\n",
       "                    background-color: #383838;\n",
       "                }\n",
       "\n",
       "                .geemap-dark .jupyter-button {\n",
       "                    --jp-layout-color3: #383838;\n",
       "                }\n",
       "\n",
       "                .geemap-colab {\n",
       "                    background-color: var(--colab-primary-surface-color, white);\n",
       "                }\n",
       "\n",
       "                .geemap-colab .jupyter-button {\n",
       "                    --jp-layout-color3: var(--colab-primary-surface-color, white);\n",
       "                }\n",
       "            </style>\n",
       "            "
      ],
      "text/plain": [
       "<IPython.core.display.HTML object>"
      ]
     },
     "metadata": {},
     "output_type": "display_data"
    },
    {
     "name": "stdout",
     "output_type": "stream",
     "text": [
      "                    species   latitude  longitude  year       eventID  \\\n",
      "0   Cyclotrachelus freitagi  35.664490 -83.524234  2016  GRSM.2016.18   \n",
      "1     Pterostichus acutipes  35.679121 -83.482275  2016  GRSM.2016.18   \n",
      "2  Gastrellarius blanchardi  35.664490 -83.524234  2016  GRSM.2016.18   \n",
      "3             Tachys laevus  35.664490 -83.524234  2016  GRSM.2016.18   \n",
      "4  Sphaeroderus bicarinatus  35.670778 -83.481653  2016  GRSM.2016.18   \n",
      "\n",
      "                     geometry  \n",
      "0  POINT (-83.52423 35.66449)  \n",
      "1  POINT (-83.48228 35.67912)  \n",
      "2  POINT (-83.52423 35.66449)  \n",
      "3  POINT (-83.52423 35.66449)  \n",
      "4  POINT (-83.48165 35.67078)  \n",
      "year                       2016  2017\n",
      "species                              \n",
      "Amphasia interstitialis       0     3\n",
      "Anillinus langdoni            0     2\n",
      "Aulacopodus brouni            1     0\n",
      "Carabus goryi                43    53\n",
      "Cyclotrachelus freitagi      17     6\n",
      "Cyclotrachelus sigillatus    32     2\n",
      "Cylindera unipunctata         2     1\n",
      "Dicaelus dilatatus           22    23\n",
      "Dicaelus politus              0     1\n",
      "Dicaelus teter               27    15\n",
      "Galerita bicolor             12     0\n",
      "Gastrellarius blanchardi      1     0\n",
      "Notiophilus aeneus            0     1\n",
      "Pasimachus punctulatus       13    13\n",
      "Pterostichus acutipes        32    16\n",
      "Pterostichus coracinus        1     0\n",
      "Pterostichus moestus         14     0\n",
      "Pterostichus stygicus         1     0\n",
      "Pterostichus tristis         15     3\n",
      "Scaphinotus andrewsii         5     0\n",
      "Scaphinotus guyotii           3     0\n",
      "Sphaeroderus bicarinatus     13     1\n",
      "Sphaeroderus canadensis       9     0\n",
      "Sphaeroderus stenostomus     10     3\n",
      "Tachys laevus                 1     0\n"
     ]
    },
    {
     "data": {
      "image/png": "[encoded data removed]",
      "text/plain": [
       "<Figure size 1200x800 with 1 Axes>"
      ]
     },
     "metadata": {},
     "output_type": "display_data"
    }
   ],
   "source": [
    "# Load the GBIF records from your GeoJSON file\n",
    "gbif_geojson = \"gbif_carabids_gsmnp_2016_2017.geojson\"\n",
    "gdf = gpd.read_file(gbif_geojson)\n",
    "\n",
    "# Preview the data to ensure species and year fields are present\n",
    "print(gdf.head())\n",
    "\n",
    "# Group the data by species and year, and count the number of occurrences per group\n",
    "# This creates a DataFrame with species as index and each year as a column.\n",
    "species_counts = gdf.groupby([\"species\", \"year\"]).size().unstack(fill_value=0)\n",
    "\n",
    "# Display the DataFrame to verify the counts (optional)\n",
    "print(species_counts)\n",
    "\n",
    "# Plotting the counts in a grouped bar chart\n",
    "ax = species_counts.plot(kind='bar', figsize=(12, 8))\n",
    "\n",
    "# Add labels and title\n",
    "ax.set_xlabel(\"Species\")\n",
    "ax.set_ylabel(\"Number of Occurrences\")\n",
    "ax.set_title(\"Carabidae Species Occurrences: 2016 vs 2017\")\n",
    "ax.legend(title=\"Year\")\n",
    "\n",
    "plt.tight_layout()\n",
    "plt.show()\n"
   ]
  },
  {
   "cell_type": "markdown",
   "metadata": {},
   "source": [
    "#### NBR values as a proxy for burn severity compared to trap areas"
   ]
  },
  {
   "cell_type": "code",
   "execution_count": 9,
   "metadata": {},
   "outputs": [
    {
     "data": {
      "text/html": [
       "\n",
       "            <style>\n",
       "                .geemap-dark {\n",
       "                    --jp-widgets-color: white;\n",
       "                    --jp-widgets-label-color: white;\n",
       "                    --jp-ui-font-color1: white;\n",
       "                    --jp-layout-color2: #454545;\n",
       "                    background-color: #383838;\n",
       "                }\n",
       "\n",
       "                .geemap-dark .jupyter-button {\n",
       "                    --jp-layout-color3: #383838;\n",
       "                }\n",
       "\n",
       "                .geemap-colab {\n",
       "                    background-color: var(--colab-primary-surface-color, white);\n",
       "                }\n",
       "\n",
       "                .geemap-colab .jupyter-button {\n",
       "                    --jp-layout-color3: var(--colab-primary-surface-color, white);\n",
       "                }\n",
       "            </style>\n",
       "            "
      ],
      "text/plain": [
       "<IPython.core.display.HTML object>"
      ]
     },
     "metadata": {},
     "output_type": "display_data"
    },
    {
     "name": "stdout",
     "output_type": "stream",
     "text": [
      "Number of unique trap points: 4\n"
     ]
    }
   ],
   "source": [
    "import json\n",
    "\n",
    "# Specify the local path to your GeoJSON file.\n",
    "geojson_path = '/Users/kitlewers/NEON_GBIF_Burn_Scar/code/gbif_carabids_gsmnp_2016_2017.geojson'\n",
    "\n",
    "# Open and load the GeoJSON as a Python dictionary.\n",
    "with open(geojson_path, 'r') as f:\n",
    "    geojson_data = json.load(f)\n",
    "\n",
    "# Extract unique coordinate pairs from the features.\n",
    "# We assume each feature is a Point geometry.\n",
    "unique_coords = {}\n",
    "for feature in geojson_data['features']:\n",
    "    # Get geometry details.\n",
    "    geom = feature.get('geometry', {})\n",
    "    if geom.get('type') == 'Point':\n",
    "        # Coordinates are typically stored as [longitude, latitude].\n",
    "        coord = tuple(geom.get('coordinates'))\n",
    "        # Use the coordinates as a key to deduplicate.\n",
    "        if coord not in unique_coords:\n",
    "            unique_coords[coord] = coord\n",
    "\n",
    "# Create a new GeoJSON with only the unique points.\n",
    "unique_features = []\n",
    "for coord in unique_coords.keys():\n",
    "    new_feature = {\n",
    "        \"type\": \"Feature\",\n",
    "        \"geometry\": {\n",
    "            \"type\": \"Point\",\n",
    "            \"coordinates\": list(coord)\n",
    "        },\n",
    "        \"properties\": {}  # Only lat/long are kept.\n",
    "    }\n",
    "    unique_features.append(new_feature)\n",
    "\n",
    "unique_geojson = {\n",
    "    \"type\": \"FeatureCollection\",\n",
    "    \"features\": unique_features\n",
    "}\n",
    "\n",
    "print(\"Number of unique trap points:\", len(unique_features))\n",
    "\n",
    "# Create an Earth Engine FeatureCollection from the unique GeoJSON.\n",
    "traps = ee.FeatureCollection(unique_geojson)\n",
    "\n",
    "# (Optional) Visualize the unique trap points using geemap.\n",
    "Map = geemap.Map(center=[35.7, -83.5], zoom=11)\n",
    "Map.addLayer(traps, {}, 'Unique Trap Coordinates')\n"
   ]
  },
  {
   "cell_type": "code",
   "execution_count": 10,
   "metadata": {},
   "outputs": [
    {
     "data": {
      "text/html": [
       "\n",
       "            <style>\n",
       "                .geemap-dark {\n",
       "                    --jp-widgets-color: white;\n",
       "                    --jp-widgets-label-color: white;\n",
       "                    --jp-ui-font-color1: white;\n",
       "                    --jp-layout-color2: #454545;\n",
       "                    background-color: #383838;\n",
       "                }\n",
       "\n",
       "                .geemap-dark .jupyter-button {\n",
       "                    --jp-layout-color3: #383838;\n",
       "                }\n",
       "\n",
       "                .geemap-colab {\n",
       "                    background-color: var(--colab-primary-surface-color, white);\n",
       "                }\n",
       "\n",
       "                .geemap-colab .jupyter-button {\n",
       "                    --jp-layout-color3: var(--colab-primary-surface-color, white);\n",
       "                }\n",
       "            </style>\n",
       "            "
      ],
      "text/plain": [
       "<IPython.core.display.HTML object>"
      ]
     },
     "metadata": {},
     "output_type": "display_data"
    },
    {
     "name": "stdout",
     "output_type": "stream",
     "text": [
      "Burn percentages for trap buffers: {'type': 'FeatureCollection', 'columns': {'burn_pct': 'Number', 'system:index': 'String'}, 'features': [{'type': 'Feature', 'geometry': {'type': 'Polygon', 'coordinates': [[[-83.524234, 35.66718965978545], [-83.52516215579463, 35.66708220976496], [-83.52601642338209, 35.666768413553044], [-83.52672879824308, 35.66627325155342], [-83.52724257421, 35.665636141589395], [-83.5275168576299, 35.66490780033122], [-83.52752982158954, 35.66414620540121], [-83.52728044145039, 35.663411979837626], [-83.52678857413409, 35.66276356647543], [-83.52609337555741, 35.66225257637097], [-83.52525018279847, 35.661919681388035], [-83.52432610949305, 35.66179137763752], [-83.52339470499562, 35.66187787711393], [-83.52253010199786, 35.662172295127625], [-83.52180111778353, 35.66265119811748], [-83.5212657779688, 35.663276468303174], [-83.52096669813993, 35.66399833695631], [-83.5209276908613, 35.664759345124196], [-83.52115186838236, 35.66549891680321], [-83.52162139263402, 35.66615818071155], [-83.52229889312214, 35.66668465687272], [-83.52313044048395, 35.66703643482343], [-83.52404983936603, 35.66718551061051], [-83.524234, 35.66718965978545]]]}, 'id': '0', 'properties': {'burn_pct': 5.093099901926259}}, {'type': 'Feature', 'geometry': {'type': 'Polygon', 'coordinates': [[[-83.482275, 35.68182065978546], [-83.48320332596084, 35.68171320976305], [-83.48405775016421, 35.68139941354597], [-83.48477025562072, 35.68090425153955], [-83.48528412576654, 35.68026714156922], [-83.48555845945417, 35.6795388003072], [-83.48557142577343, 35.678777205377], [-83.48532199990328, 35.678042979816944], [-83.48483004241002, 35.67739456646088], [-83.4841347163909, 35.67688357636327], [-83.48329136906794, 35.67655068138573], [-83.4823671263769, 35.67642237763751], [-83.48143555115047, 35.67650887711236], [-83.48057078966514, 35.676803295121154], [-83.47984167181662, 35.677282198104294], [-83.47930623385724, 35.677907468283536], [-83.47900709918744, 35.678629336932524], [-83.47896808474113, 35.67939034509984], [-83.47919230334352, 35.680129916782036], [-83.47966191366014, 35.680789180696344], [-83.48033953834874, 35.68131565686438], [-83.4811712381599, 35.6816674348207], [-83.48209080560225, 35.68181651061044], [-83.482275, 35.68182065978546]]]}, 'id': '1', 'properties': {'burn_pct': 23.721914388784974}}, {'type': 'Feature', 'geometry': {'type': 'Polygon', 'coordinates': [[[-83.481653, 35.67347765978544], [-83.48258122891231, 35.67337020976413], [-83.48343556379508, 35.673056413549986], [-83.48414799477088, 35.67256125154745], [-83.48466181120496, 35.67192414158072], [-83.48493611622408, 35.67119580032089], [-83.48494908119761, 35.67043420539079], [-83.48469968140857, 35.66969997982873], [-83.48420777534471, 35.66905156646918], [-83.48351252200806, 35.66854057636765], [-83.48266926283546, 35.66820768138703], [-83.48174511674776, 35.668079377637504], [-83.48081363889084, 35.668165877113246], [-83.47994896779352, 35.66846029512483], [-83.47921992615872, 35.6689391981118], [-83.47868454417282, 35.66956446829473], [-83.47838544077969, 35.67028633694607], [-83.47834643042121, 35.67104734511373], [-83.47857062559427, 35.6717869167941], [-83.47904018682664, 35.67244618070501], [-83.47971774068172, 35.67297265686913], [-83.48054935354855, 35.673324434822256], [-83.48146882485827, 35.673473510610464], [-83.481653, 35.67347765978544]]]}, 'id': '2', 'properties': {'burn_pct': 9.38302404090349}}, {'type': 'Feature', 'geometry': {'type': 'Polygon', 'coordinates': [[[-83.532102, 35.68728865978545], [-83.5330303895881, 35.68718120976233], [-83.53388487235213, 35.68686741354331], [-83.53459742663993, 35.68637225153436], [-83.53511133200041, 35.68573514156168], [-83.53538568448377, 35.685006800298225], [-83.53539865168534, 35.68424520536795], [-83.53514920871578, 35.68351097980921], [-83.53465721750426, 35.68286256645545], [-83.5339618438328, 35.682351576360375], [-83.53311843871641, 35.68201868138487], [-83.53219413269, 35.6818903776375], [-83.53126249362585, 35.68197687711178], [-83.53039767288004, 35.68227129511873], [-83.52966850506402, 35.68275019809936], [-83.52913303040715, 35.6833754682762], [-83.52883387523165, 35.68409733692362], [-83.52879485810523, 35.68485834509074], [-83.52901909206845, 35.68559791677412], [-83.52948873456585, 35.686257180690646], [-83.53016640569453, 35.68678365686125], [-83.53099816250842, 35.6871354348197], [-83.53191779297757, 35.687284510610404], [-83.532102, 35.68728865978545]]]}, 'id': '3', 'properties': {'burn_pct': 13.115131311260578}}]}\n"
     ]
    },
    {
     "name": "stderr",
     "output_type": "stream",
     "text": [
      "INFO:Created 4 records\n"
     ]
    },
    {
     "name": "stdout",
     "output_type": "stream",
     "text": [
      "Converted GeoDataFrame:\n",
      "                                            geometry   burn_pct\n",
      "0  POLYGON ((-83.52753 35.66415, -83.52728 35.663...   5.093100\n",
      "1  POLYGON ((-83.48557 35.67878, -83.48532 35.678...  23.721914\n",
      "2  POLYGON ((-83.48495 35.67043, -83.4847 35.6697...   9.383024\n",
      "3  POLYGON ((-83.5354 35.68425, -83.53515 35.6835...  13.115131\n",
      "Data exported as CSV: Trap_Burn_Percentage_Export.csv\n",
      "Data exported as GeoJSON: Trap_Burn_Percentage_Export.geojson\n"
     ]
    }
   ],
   "source": [
    "burn_mask = burned_area_mask.unmask(0).toFloat().rename('burn_mask')\n",
    "\n",
    "traps_buffered = traps.map(lambda feature: feature.buffer(300))\n",
    "\n",
    "# Step 4: Define a function to compute the percentage of burned pixels within each buffer.\n",
    "def calculate_burn_percentage(feature):\n",
    "    stats = burn_mask.reduceRegion(\n",
    "        reducer=ee.Reducer.mean(),\n",
    "        geometry=feature.geometry(),\n",
    "        scale=10,          # Adjust scale to match your sensor's resolution (e.g., 10 m)\n",
    "        maxPixels=1e6\n",
    "    )\n",
    "    # The mean value corresponds to the fraction of burned pixels (0–1).\n",
    "    burn_fraction = ee.Number(stats.get('burn_mask'))\n",
    "    burn_percentage = burn_fraction.multiply(100)\n",
    "    return feature.set({'burn_pct': burn_percentage})\n",
    "\n",
    "# Apply the function to each buffered trap.\n",
    "traps_with_burn = traps_buffered.map(calculate_burn_percentage)\n",
    "\n",
    "# Optionally, print a sample of the computed burn percentages.\n",
    "print('Burn percentages for trap buffers:', traps_with_burn.limit(10).getInfo())\n",
    "\n",
    "# (Optional) Visualize the trap areas with burn percentage values on your existing map.\n",
    "NBR_Map.addLayer(traps_with_burn, {}, 'Trap Areas with Burn %')\n",
    "\n",
    "\n",
    "# Convert the Earth Engine FeatureCollection (with burn percentages) to a GeoDataFrame\n",
    "gdf_traps = geemap.ee_to_gdf(traps_with_burn)\n",
    "print(\"Converted GeoDataFrame:\")\n",
    "print(gdf_traps.head())\n",
    "\n",
    "# Option 1: Export as CSV using pandas.\n",
    "# For CSV export, the geometry column may be better exported as WKT.\n",
    "gdf_traps_csv = gdf_traps.copy()\n",
    "gdf_traps_csv['geometry'] = gdf_traps_csv['geometry'].apply(lambda geom: geom.wkt if geom is not None else None)\n",
    "csv_filename = \"Trap_Burn_Percentage_Export.csv\"\n",
    "gdf_traps_csv.to_csv(csv_filename, index=False)\n",
    "print(f\"Data exported as CSV: {csv_filename}\")\n",
    "\n",
    "# Option 2: Export as GeoJSON using GeoPandas.\n",
    "# Here, we'll export the GeoDataFrame directly as a GeoJSON file.\n",
    "geojson_filename = \"Trap_Burn_Percentage_Export.geojson\"\n",
    "# (Make sure the geometry column contains proper shapely geometries; if you already converted to WKT above, use the original gdf_traps.)\n",
    "gdf_traps.to_file(geojson_filename, driver=\"GeoJSON\")\n",
    "print(f\"Data exported as GeoJSON: {geojson_filename}\")\n"
   ]
  },
  {
   "cell_type": "code",
   "execution_count": 11,
   "metadata": {},
   "outputs": [
    {
     "data": {
      "text/html": [
       "\n",
       "            <style>\n",
       "                .geemap-dark {\n",
       "                    --jp-widgets-color: white;\n",
       "                    --jp-widgets-label-color: white;\n",
       "                    --jp-ui-font-color1: white;\n",
       "                    --jp-layout-color2: #454545;\n",
       "                    background-color: #383838;\n",
       "                }\n",
       "\n",
       "                .geemap-dark .jupyter-button {\n",
       "                    --jp-layout-color3: #383838;\n",
       "                }\n",
       "\n",
       "                .geemap-colab {\n",
       "                    background-color: var(--colab-primary-surface-color, white);\n",
       "                }\n",
       "\n",
       "                .geemap-colab .jupyter-button {\n",
       "                    --jp-layout-color3: var(--colab-primary-surface-color, white);\n",
       "                }\n",
       "            </style>\n",
       "            "
      ],
      "text/plain": [
       "<IPython.core.display.HTML object>"
      ]
     },
     "metadata": {},
     "output_type": "display_data"
    },
    {
     "name": "stdout",
     "output_type": "stream",
     "text": [
      "Occurrence data (pivot table):\n",
      "year               location  2016  2017\n",
      "0      35.66449, -83.524234    59    25\n",
      "1     35.670778, -83.481653    99    45\n",
      "2     35.679121, -83.482275    63    42\n",
      "3     35.684589, -83.532102    53    31\n",
      "Burn percentage data:\n",
      "                location   burn_pct\n",
      "0   35.66449, -83.524234   5.093100\n",
      "1  35.679121, -83.482275  23.721914\n",
      "2  35.670778, -83.481653   9.383024\n",
      "3  35.684589, -83.532102  13.115131\n",
      "Merged data:\n",
      "                location  2016  2017   burn_pct\n",
      "0   35.66449, -83.524234    59    25   5.093100\n",
      "1  35.670778, -83.481653    99    45   9.383024\n",
      "2  35.679121, -83.482275    63    42  23.721914\n",
      "3  35.684589, -83.532102    53    31  13.115131\n"
     ]
    },
    {
     "data": {
      "image/png": "[encoded data removed]",
      "text/plain": [
       "<Figure size 1400x700 with 1 Axes>"
      ]
     },
     "metadata": {},
     "output_type": "display_data"
    }
   ],
   "source": [
    "import pandas as pd\n",
    "import geopandas as gpd\n",
    "import matplotlib.pyplot as plt\n",
    "from shapely import wkt\n",
    "\n",
    "# ================================\n",
    "# Step 1: Process occurrence data\n",
    "# ================================\n",
    "\n",
    "# Load the GBIF records from your GeoJSON file\n",
    "occurrences_gdf = gpd.read_file(\"gbif_carabids_gsmnp_2016_2017.geojson\")\n",
    "\n",
    "# Create a new column that identifies each unique trap location.\n",
    "# (We round the coordinates to 6 decimals to avoid slight floating-point mismatches.)\n",
    "occurrences_gdf['location'] = occurrences_gdf['latitude'].round(6).astype(str) + \", \" + occurrences_gdf['longitude'].round(6).astype(str)\n",
    "\n",
    "# Group by year and location to count the number of occurrences per trap for each year.\n",
    "occurrence_counts = occurrences_gdf.groupby(['year', 'location']).size().reset_index(name='count')\n",
    "\n",
    "# Pivot the table so that each row is a unique trap (location) with columns for 2016 and 2017.\n",
    "pivot_abundance = occurrence_counts.pivot(index='location', columns='year', values='count').fillna(0)\n",
    "pivot_abundance = pivot_abundance.sort_index().reset_index()\n",
    "\n",
    "print(\"Occurrence data (pivot table):\")\n",
    "print(pivot_abundance)\n",
    "\n",
    "\n",
    "# ============================================\n",
    "# Step 2: Load and process burn percentage data\n",
    "# ============================================\n",
    "\n",
    "# Load your exported CSV from Earth Engine.\n",
    "# This file is assumed to be generated from your export task (\"Trap_Burn_Percentage_Export.csv\").\n",
    "df_burn = pd.read_csv(\"Trap_Burn_Percentage_Export.csv\")\n",
    "\n",
    "# Convert the geometry column (assumed to be in WKT format) into shapely geometry objects.\n",
    "# The CSV export from EE typically includes a column \"geometry\" with WKT strings.\n",
    "df_burn['geometry'] = df_burn['geometry'].apply(wkt.loads)\n",
    "\n",
    "# Create a GeoDataFrame from the burn data.\n",
    "gdf_burn = gpd.GeoDataFrame(df_burn, geometry='geometry', crs=\"EPSG:4326\")\n",
    "\n",
    "# Compute the centroid for each (buffer) polygon.\n",
    "gdf_burn['centroid'] = gdf_burn.geometry.centroid\n",
    "\n",
    "# Extract longitude and latitude from the centroids and round for consistent merging.\n",
    "gdf_burn['lon'] = gdf_burn.centroid.x.round(6)\n",
    "gdf_burn['lat'] = gdf_burn.centroid.y.round(6)\n",
    "\n",
    "# Create a location string to match the occurrence data formatting.\n",
    "gdf_burn['location'] = gdf_burn['lat'].astype(str) + \", \" + gdf_burn['lon'].astype(str)\n",
    "\n",
    "# Keep only the necessary columns (location and burn percentage)\n",
    "burn_data = gdf_burn[['location', 'burn_pct']]\n",
    "\n",
    "print(\"Burn percentage data:\")\n",
    "print(burn_data)\n",
    "\n",
    "\n",
    "# ===============================================\n",
    "# Step 3: Merge occurrence and burn percentage data\n",
    "# ===============================================\n",
    "\n",
    "# Merge the pivot abundance table with the burn data on the \"location\" column.\n",
    "merged_df = pd.merge(pivot_abundance, burn_data, on='location', how='left')\n",
    "\n",
    "print(\"Merged data:\")\n",
    "print(merged_df)\n",
    "\n",
    "\n",
    "# ===================================================\n",
    "# Step 4: Create the visualization (grouped bar chart)\n",
    "# ===================================================\n",
    "\n",
    "fig, ax = plt.subplots(figsize=(14, 7))\n",
    "\n",
    "# Use the index (0, 1, 2, ...) for unique traps.\n",
    "x_positions = range(len(merged_df))\n",
    "bar_width = 0.35\n",
    "\n",
    "# Plot bars for each year. We assume the pivot table columns are either integer years or strings.\n",
    "# If needed, adjust the column names accordingly.\n",
    "year2016 = merged_df[2016] if 2016 in merged_df.columns else merged_df['2016']\n",
    "year2017 = merged_df[2017] if 2017 in merged_df.columns else merged_df['2017']\n",
    "\n",
    "bars1 = ax.bar([i - bar_width/2 for i in x_positions], year2016, bar_width, label='2016', color='blue')\n",
    "bars2 = ax.bar([i + bar_width/2 for i in x_positions], year2017, bar_width, label='2017', color='orange')\n",
    "\n",
    "# Annotate each group with the burn percentage.\n",
    "for i, row in merged_df.iterrows():\n",
    "    # Get the maximum occurrence count between the two years for placement of text.\n",
    "    max_count = max(row[2016] if 2016 in merged_df.columns else row['2016'], \n",
    "                    row[2017] if 2017 in merged_df.columns else row['2017'])\n",
    "    ax.text(i, max_count + 0.5, f\"Burn: {row['burn_pct']:.1f}%\", ha='center', va='bottom', fontsize=10)\n",
    "\n",
    "# Set the x-axis tick labels to be the location strings (which are \"lat, long\").\n",
    "ax.set_xticks(x_positions)\n",
    "ax.set_xticklabels(merged_df['location'], rotation=90)\n",
    "ax.set_xlabel(\"Trap (Lat, Long)\")\n",
    "ax.set_ylabel(\"Occurrence Count\")\n",
    "ax.set_title(\"Trap Occurrence (2016 vs 2017) with Burn Scar %\")\n",
    "ax.legend()\n",
    "\n",
    "plt.tight_layout()\n",
    "plt.show()\n"
   ]
  }
 ],
 "metadata": {
  "kernelspec": {
   "display_name": "env",
   "language": "python",
   "name": "python3"
  },
  "language_info": {
   "codemirror_mode": {
    "name": "ipython",
    "version": 3
   },
   "file_extension": ".py",
   "mimetype": "text/x-python",
   "name": "python",
   "nbconvert_exporter": "python",
   "pygments_lexer": "ipython3",
   "version": "3.13.1"
  }
 },
 "nbformat": 4,
 "nbformat_minor": 2
}
